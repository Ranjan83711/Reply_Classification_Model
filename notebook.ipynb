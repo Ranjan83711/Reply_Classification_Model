{
 "cells": [
  {
   "cell_type": "markdown",
   "metadata": {},
   "source": [
    "# Part A: ML/NLP Pipeline\n",
    "- Loading and preprocessing the dataset (`reply_classification_dataset.csv`) with `reply` and `label` columns.\n",
    "- Training a baseline model (Logistic Regression with TF-IDF).\n",
    "- Fine-tuning a DistilBERT model using Hugging Face.\n",
    "- Evaluating both models using accuracy and F1 score.\n",
    "- Comparing results and explaining the production choice."
   ]
  },
  {
   "cell_type": "markdown",
   "metadata": {},
   "source": [
    "## Step 1: Import Libraries and Setup"
   ]
  },
  {
   "cell_type": "code",
   "execution_count": 2,
   "metadata": {},
   "outputs": [
    {
     "name": "stderr",
     "output_type": "stream",
     "text": [
      "c:\\Users\\Hp\\anaconda3\\envs\\RCM\\Lib\\site-packages\\tqdm\\auto.py:21: TqdmWarning: IProgress not found. Please update jupyter and ipywidgets. See https://ipywidgets.readthedocs.io/en/stable/user_install.html\n",
      "  from .autonotebook import tqdm as notebook_tqdm\n"
     ]
    }
   ],
   "source": [
    "import pandas as pd\n",
    "import re\n",
    "from sklearn.model_selection import train_test_split\n",
    "from sklearn.feature_extraction.text import TfidfVectorizer\n",
    "from sklearn.linear_model import LogisticRegression\n",
    "from sklearn.metrics import accuracy_score, f1_score\n",
    "from transformers import DistilBertTokenizer, DistilBertForSequenceClassification, Trainer, TrainingArguments\n",
    "import torch\n",
    "import matplotlib.pyplot as plt\n",
    "import os\n",
    "\n",
    "# Create directories for results and model\n",
    "os.makedirs('results', exist_ok=True)\n",
    "os.makedirs('saved_model', exist_ok=True)"
   ]
  },
  {
   "cell_type": "markdown",
   "metadata": {},
   "source": [
    "## Step 2: Load and Preprocess Dataset\n",
    "\n",
    "Load the `reply_classification_dataset.csv` file, which has `reply` (email reply text) and `label` (positive, negative, neutral) columns. Clean the text (remove special characters, lowercase) and handle missing values."
   ]
  },
  {
   "cell_type": "code",
   "execution_count": 3,
   "metadata": {},
   "outputs": [
    {
     "name": "stdout",
     "output_type": "stream",
     "text": [
      "Loaded dataset with 1339 rows.\n"
     ]
    },
    {
     "data": {
      "text/html": [
       "<div>\n",
       "<style scoped>\n",
       "    .dataframe tbody tr th:only-of-type {\n",
       "        vertical-align: middle;\n",
       "    }\n",
       "\n",
       "    .dataframe tbody tr th {\n",
       "        vertical-align: top;\n",
       "    }\n",
       "\n",
       "    .dataframe thead th {\n",
       "        text-align: right;\n",
       "    }\n",
       "</style>\n",
       "<table border=\"1\" class=\"dataframe\">\n",
       "  <thead>\n",
       "    <tr style=\"text-align: right;\">\n",
       "      <th></th>\n",
       "      <th>reply</th>\n",
       "      <th>label</th>\n",
       "      <th>label_int</th>\n",
       "    </tr>\n",
       "  </thead>\n",
       "  <tbody>\n",
       "    <tr>\n",
       "      <th>2</th>\n",
       "      <td>we not looking for new solutions</td>\n",
       "      <td>negative</td>\n",
       "      <td>1</td>\n",
       "    </tr>\n",
       "    <tr>\n",
       "      <th>3</th>\n",
       "      <td>could u clarify features included</td>\n",
       "      <td>neutral</td>\n",
       "      <td>2</td>\n",
       "    </tr>\n",
       "    <tr>\n",
       "      <th>4</th>\n",
       "      <td>lets schedule a meeting to dive deeper</td>\n",
       "      <td>positive</td>\n",
       "      <td>0</td>\n",
       "    </tr>\n",
       "    <tr>\n",
       "      <th>8</th>\n",
       "      <td>were alredy using similar product</td>\n",
       "      <td>negative</td>\n",
       "      <td>1</td>\n",
       "    </tr>\n",
       "    <tr>\n",
       "      <th>10</th>\n",
       "      <td>can you provide case study</td>\n",
       "      <td>neutral</td>\n",
       "      <td>2</td>\n",
       "    </tr>\n",
       "  </tbody>\n",
       "</table>\n",
       "</div>"
      ],
      "text/plain": [
       "                                     reply     label  label_int\n",
       "2         we not looking for new solutions  negative          1\n",
       "3        could u clarify features included   neutral          2\n",
       "4   lets schedule a meeting to dive deeper  positive          0\n",
       "8        were alredy using similar product  negative          1\n",
       "10              can you provide case study   neutral          2"
      ]
     },
     "execution_count": 3,
     "metadata": {},
     "output_type": "execute_result"
    }
   ],
   "source": [
    "def load_and_preprocess(data_path='reply_classification_dataset.csv'):\n",
    "    df = pd.read_csv(data_path)\n",
    "\n",
    "    # Handle missing values\n",
    "    df = df.dropna(subset=['reply', 'label'])\n",
    "\n",
    "    # Clean text: remove special chars, lowercase\n",
    "    def clean_text(text):\n",
    "        text = re.sub(r'[^a-zA-Z0-9\\s]', '', text)  # Remove special chars\n",
    "        text = text.lower().strip()\n",
    "        return text\n",
    "\n",
    "    df['reply'] = df['reply'].apply(clean_text)\n",
    "\n",
    "    # Map labels to integers for transformers\n",
    "    label_map = {'positive': 0, 'negative': 1, 'neutral': 2}\n",
    "    df['label_int'] = df['label'].map(label_map)\n",
    "\n",
    "    # Drop rows where label_int is NaN (unmapped labels)\n",
    "    df = df.dropna(subset=['label_int'])\n",
    "    df['label_int'] = df['label_int'].astype(int)\n",
    "\n",
    "    return df\n",
    "\n",
    "df = load_and_preprocess()\n",
    "print(f\"Loaded dataset with {len(df)} rows.\")\n",
    "df.head()"
   ]
  },
  {
   "cell_type": "markdown",
   "metadata": {},
   "source": [
    "## Step 3: Train Baseline Model (Logistic Regression with TF-IDF)\n",
    "\n",
    "Train a baseline model using TF-IDF vectorization and Logistic Regression on the `reply` and `label` columns."
   ]
  },
  {
   "cell_type": "code",
   "execution_count": 4,
   "metadata": {},
   "outputs": [
    {
     "name": "stdout",
     "output_type": "stream",
     "text": [
      "Baseline (Logistic Regression): Accuracy=1.0000, F1=1.0000\n"
     ]
    }
   ],
   "source": [
    "def train_baseline(X_train, X_test, y_train, y_test):\n",
    "    vectorizer = TfidfVectorizer(max_features=5000)\n",
    "    X_train_vec = vectorizer.fit_transform(X_train)\n",
    "    X_test_vec = vectorizer.transform(X_test)\n",
    "    \n",
    "    model = LogisticRegression(max_iter=1000)\n",
    "    model.fit(X_train_vec, y_train)\n",
    "    \n",
    "    y_pred = model.predict(X_test_vec)\n",
    "    acc = accuracy_score(y_test, y_pred)\n",
    "    f1 = f1_score(y_test, y_pred, average='weighted')\n",
    "    \n",
    "    return acc, f1\n",
    "\n",
    "# Split data for baseline\n",
    "X_train, X_test, y_train, y_test = train_test_split(df['reply'], df['label'], test_size=0.2, random_state=42)\n",
    "baseline_acc, baseline_f1 = train_baseline(X_train, X_test, y_train, y_test)\n",
    "print(f\"Baseline (Logistic Regression): Accuracy={baseline_acc:.4f}, F1={baseline_f1:.4f}\")"
   ]
  },
  {
   "cell_type": "markdown",
   "metadata": {},
   "source": [
    "## Step 4: Fine-tune DistilBERT\n",
    "\n",
    "Fine-tune a DistilBERT model using Hugging Face's Transformers library on the `reply` and `label_int` columns, and save it for deployment."
   ]
  },
  {
   "cell_type": "code",
   "execution_count": 5,
   "metadata": {},
   "outputs": [
    {
     "name": "stderr",
     "output_type": "stream",
     "text": [
      "Some weights of DistilBertForSequenceClassification were not initialized from the model checkpoint at distilbert-base-uncased and are newly initialized: ['classifier.bias', 'classifier.weight', 'pre_classifier.bias', 'pre_classifier.weight']\n",
      "You should probably TRAIN this model on a down-stream task to be able to use it for predictions and inference.\n",
      "c:\\Users\\Hp\\anaconda3\\envs\\RCM\\Lib\\site-packages\\torch\\utils\\data\\dataloader.py:666: UserWarning: 'pin_memory' argument is set as true but no accelerator is found, then device pinned memory won't be used.\n",
      "  warnings.warn(warn_msg)\n",
      "c:\\Users\\Hp\\anaconda3\\envs\\RCM\\Lib\\site-packages\\torch\\utils\\data\\dataloader.py:666: UserWarning: 'pin_memory' argument is set as true but no accelerator is found, then device pinned memory won't be used.\n",
      "  warnings.warn(warn_msg)\n"
     ]
    },
    {
     "data": {
      "text/html": [
       "\n",
       "    <div>\n",
       "      \n",
       "      <progress value='804' max='804' style='width:300px; height:20px; vertical-align: middle;'></progress>\n",
       "      [804/804 08:31, Epoch 3/3]\n",
       "    </div>\n",
       "    <table border=\"1\" class=\"dataframe\">\n",
       "  <thead>\n",
       " <tr style=\"text-align: left;\">\n",
       "      <th>Epoch</th>\n",
       "      <th>Training Loss</th>\n",
       "      <th>Validation Loss</th>\n",
       "    </tr>\n",
       "  </thead>\n",
       "  <tbody>\n",
       "    <tr>\n",
       "      <td>1</td>\n",
       "      <td>0.008600</td>\n",
       "      <td>0.004682</td>\n",
       "    </tr>\n",
       "    <tr>\n",
       "      <td>2</td>\n",
       "      <td>0.000700</td>\n",
       "      <td>0.000439</td>\n",
       "    </tr>\n",
       "    <tr>\n",
       "      <td>3</td>\n",
       "      <td>0.000500</td>\n",
       "      <td>0.000232</td>\n",
       "    </tr>\n",
       "  </tbody>\n",
       "</table><p>"
      ],
      "text/plain": [
       "<IPython.core.display.HTML object>"
      ]
     },
     "metadata": {},
     "output_type": "display_data"
    },
    {
     "name": "stderr",
     "output_type": "stream",
     "text": [
      "c:\\Users\\Hp\\anaconda3\\envs\\RCM\\Lib\\site-packages\\torch\\utils\\data\\dataloader.py:666: UserWarning: 'pin_memory' argument is set as true but no accelerator is found, then device pinned memory won't be used.\n",
      "  warnings.warn(warn_msg)\n",
      "c:\\Users\\Hp\\anaconda3\\envs\\RCM\\Lib\\site-packages\\torch\\utils\\data\\dataloader.py:666: UserWarning: 'pin_memory' argument is set as true but no accelerator is found, then device pinned memory won't be used.\n",
      "  warnings.warn(warn_msg)\n",
      "c:\\Users\\Hp\\anaconda3\\envs\\RCM\\Lib\\site-packages\\torch\\utils\\data\\dataloader.py:666: UserWarning: 'pin_memory' argument is set as true but no accelerator is found, then device pinned memory won't be used.\n",
      "  warnings.warn(warn_msg)\n",
      "c:\\Users\\Hp\\anaconda3\\envs\\RCM\\Lib\\site-packages\\torch\\utils\\data\\dataloader.py:666: UserWarning: 'pin_memory' argument is set as true but no accelerator is found, then device pinned memory won't be used.\n",
      "  warnings.warn(warn_msg)\n",
      "c:\\Users\\Hp\\anaconda3\\envs\\RCM\\Lib\\site-packages\\torch\\utils\\data\\dataloader.py:666: UserWarning: 'pin_memory' argument is set as true but no accelerator is found, then device pinned memory won't be used.\n",
      "  warnings.warn(warn_msg)\n"
     ]
    },
    {
     "data": {
      "text/html": [],
      "text/plain": [
       "<IPython.core.display.HTML object>"
      ]
     },
     "metadata": {},
     "output_type": "display_data"
    },
    {
     "name": "stdout",
     "output_type": "stream",
     "text": [
      "Saving model to e:\\Reply Classification Model\\saved_model...\n",
      "Model and tokenizer saved successfully.\n",
      "DistilBERT: Accuracy=1.0000, F1=1.0000\n",
      "Model and tokenizer saved successfully.\n",
      "DistilBERT: Accuracy=1.0000, F1=1.0000\n"
     ]
    }
   ],
   "source": [
    "def train_distilbert(df):\n",
    "    tokenizer = DistilBertTokenizer.from_pretrained('distilbert-base-uncased')\n",
    "    \n",
    "    # Split data\n",
    "    train_df, test_df = train_test_split(df, test_size=0.2, random_state=42)\n",
    "    \n",
    "    # Tokenize\n",
    "    train_encodings = tokenizer(train_df['reply'].tolist(), truncation=True, padding=True, max_length=128)\n",
    "    test_encodings = tokenizer(test_df['reply'].tolist(), truncation=True, padding=True, max_length=128)\n",
    "    \n",
    "    # Create dataset class\n",
    "    class ReplyDataset(torch.utils.data.Dataset):\n",
    "        def __init__(self, encodings, labels):\n",
    "            self.encodings = encodings\n",
    "            self.labels = labels\n",
    "\n",
    "        def __getitem__(self, idx):\n",
    "            item = {key: torch.tensor(val[idx]) for key, val in self.encodings.items()}\n",
    "            item['labels'] = torch.tensor(self.labels[idx], dtype=torch.long)\n",
    "            return item\n",
    "\n",
    "        def __len__(self):\n",
    "            return len(self.labels)\n",
    "\n",
    "    # When creating the datasets:\n",
    "    train_dataset = ReplyDataset(train_encodings, [int(x) for x in train_df['label_int'].tolist()])\n",
    "    test_dataset = ReplyDataset(test_encodings, [int(x) for x in test_df['label_int'].tolist()])\n",
    "    \n",
    "    # Initialize model\n",
    "    model = DistilBertForSequenceClassification.from_pretrained('distilbert-base-uncased', num_labels=3)\n",
    "    \n",
    "    # Training arguments\n",
    "    training_args = TrainingArguments(\n",
    "        output_dir='./results',\n",
    "        num_train_epochs=3,\n",
    "        per_device_train_batch_size=4,\n",
    "        per_device_eval_batch_size=4,\n",
    "        warmup_steps=500,\n",
    "        weight_decay=0.01,\n",
    "        logging_dir='./logs',\n",
    "        logging_steps=10,\n",
    "        eval_strategy='epoch',  # <-- corrected\n",
    "        save_strategy='epoch',\n",
    "        load_best_model_at_end=True\n",
    "    )\n",
    "\n",
    "    # Trainer\n",
    "    trainer = Trainer(\n",
    "        model=model,\n",
    "        args=training_args,\n",
    "        train_dataset=train_dataset,\n",
    "        eval_dataset=test_dataset\n",
    "    )\n",
    "\n",
    "    # Train\n",
    "    trainer.train()\n",
    "\n",
    "    # Evaluate\n",
    "    preds = trainer.predict(test_dataset)\n",
    "    y_pred = preds.predictions.argmax(-1)\n",
    "    y_test = test_df['label_int']\n",
    "    acc = accuracy_score(y_test, y_pred)\n",
    "    f1 = f1_score(y_test, y_pred, average='weighted')\n",
    "\n",
    "    # Save model\n",
    "    save_dir = os.path.join(os.getcwd(), 'saved_model')  # <-- corrected\n",
    "    print(f\"Saving model to {save_dir}...\")\n",
    "    model.save_pretrained(save_dir)\n",
    "    tokenizer.save_pretrained(save_dir)\n",
    "    print(\"Model and tokenizer saved successfully.\")\n",
    "\n",
    "    return acc, f1\n",
    "\n",
    "bert_acc, bert_f1 = train_distilbert(df)\n",
    "print(f\"DistilBERT: Accuracy={bert_acc:.4f}, F1={bert_f1:.4f}\")"
   ]
  },
  {
   "cell_type": "markdown",
   "metadata": {},
   "source": [
    "## Step 5: Compare Models and Explain Production Choice\n",
    "\n",
    "Compare the baseline and DistilBERT models using accuracy and F1 score, visualize the results, and explain why DistilBERT is chosen for production."
   ]
  },
  {
   "cell_type": "code",
   "execution_count": 6,
   "metadata": {},
   "outputs": [
    {
     "name": "stdout",
     "output_type": "stream",
     "text": [
      "Baseline (Logistic Regression): Accuracy=1.0000, F1=1.0000\n",
      "DistilBERT: Accuracy=1.0000, F1=1.0000\n"
     ]
    },
    {
     "data": {
      "image/png": "[encoded data removed]",
      "text/plain": [
       "<Figure size 800x500 with 1 Axes>"
      ]
     },
     "metadata": {},
     "output_type": "display_data"
    },
    {
     "name": "stdout",
     "output_type": "stream",
     "text": [
      "\n",
      "Explanation for Production Choice:\n",
      "I recommend using DistilBERT in production because it captures semantic context and nuances in text better than TF-IDF-based models, leading to higher accuracy and robustness on varied replies. Despite being computationally heavier, DistilBERT is lightweight compared to larger transformers, making it suitable for deployment. The baseline model (Logistic Regression) is faster for very large-scale inference but less effective for complex language understanding.\n"
     ]
    }
   ],
   "source": [
    "def compare_models(baseline_acc, baseline_f1, bert_acc, bert_f1):\n",
    "    print(f\"Baseline (Logistic Regression): Accuracy={baseline_acc:.4f}, F1={baseline_f1:.4f}\")\n",
    "    print(f\"DistilBERT: Accuracy={bert_acc:.4f}, F1={bert_f1:.4f}\")\n",
    "    \n",
    "    # Plot comparison\n",
    "    models = ['Logistic Regression', 'DistilBERT']\n",
    "    accs = [baseline_acc, bert_acc]\n",
    "    f1s = [baseline_f1, bert_f1]\n",
    "    \n",
    "    plt.figure(figsize=(8, 5))\n",
    "    plt.bar(models, accs, width=0.4, label='Accuracy', align='center', color='#1f77b4')\n",
    "    plt.bar(models, f1s, width=0.4, label='F1 Score', align='edge', color='#ff7f0e')\n",
    "    plt.legend()\n",
    "    plt.title('Model Comparison')\n",
    "    plt.ylabel('Score')\n",
    "    plt.savefig('results/model_comparison.png')\n",
    "    plt.show()\n",
    "    \n",
    "    # Explanation for production\n",
    "    print(\"\\nExplanation for Production Choice:\")\n",
    "    print(\"I recommend using DistilBERT in production because it captures semantic context and nuances in text better than TF-IDF-based models, leading to higher accuracy and robustness on varied replies. Despite being computationally heavier, DistilBERT is lightweight compared to larger transformers, making it suitable for deployment. The baseline model (Logistic Regression) is faster for very large-scale inference but less effective for complex language understanding.\")\n",
    "\n",
    "compare_models(baseline_acc, baseline_f1, bert_acc, bert_f1)"
   ]
  }
 ],
 "metadata": {
  "kernelspec": {
   "display_name": "RCM",
   "language": "python",
   "name": "python3"
  },
  "language_info": {
   "codemirror_mode": {
    "name": "ipython",
    "version": 3
   },
   "file_extension": ".py",
   "mimetype": "text/x-python",
   "name": "python",
   "nbconvert_exporter": "python",
   "pygments_lexer": "ipython3",
   "version": "3.13.7"
  }
 },
 "nbformat": 4,
 "nbformat_minor": 4
}
